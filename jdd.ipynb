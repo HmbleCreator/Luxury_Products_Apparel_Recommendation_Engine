{
 "cells": [
  {
   "cell_type": "markdown",
   "metadata": {},
   "source": [
    "# Task 1: Concept Development & Mock-Up Design"
   ]
  },
  {
   "cell_type": "code",
   "execution_count": 16,
   "metadata": {},
   "outputs": [],
   "source": [
    "import pandas as pd\n",
    "import numpy as np\n",
    "from sklearn.model_selection import train_test_split\n",
    "from sklearn.preprocessing import MinMaxScaler, OneHotEncoder\n",
    "from sklearn.feature_extraction.text import TfidfVectorizer\n",
    "from sklearn.metrics.pairwise import cosine_similarity\n",
    "from sklearn.impute import SimpleImputer"
   ]
  },
  {
   "cell_type": "code",
   "execution_count": 19,
   "metadata": {},
   "outputs": [
    {
     "name": "stdout",
     "output_type": "stream",
     "text": [
      "   Unnamed: 0     Category SubCategory  \\\n",
      "0        8037  Accessories        Bags   \n",
      "1       13670  Accessories       Socks   \n",
      "2       13983        Suits     Tuxedos   \n",
      "3       12081  Accessories      Gloves   \n",
      "4       15617  Accessories   Cufflinks   \n",
      "\n",
      "                                         ProductName  \\\n",
      "0                     \"Prada Striped Shell Belt Bag\"   \n",
      "1  \"Falke - Lhasa Wool And Cashmere-blend Socks -...   \n",
      "2                    \"peak lapel tuxedo suit jacket\"   \n",
      "3                \"Thom Browne Navy 4-Bar Rib Gloves\"   \n",
      "4  \"Alice Made This - Bayley Round Patina-brass C...   \n",
      "\n",
      "                                         Description  \n",
      "0  \"One of Prada's most functional designs, this ...  \n",
      "1  \"Falke - Casual yet luxurious, Falke's dark na...  \n",
      "2  \"White and black linen blend peak lapel tuxedo...  \n",
      "3  \"Pair of rib knit cashmere gloves in navy. Sig...  \n",
      "4  \"Alice Made This - Made in the UK, these teal ...  \n"
     ]
    }
   ],
   "source": [
    "# Load the luxury apparel dataset\n",
    "url = 'Luxury_Products_Apparel_Data.csv'  # Replace with the actual dataset URL\n",
    "df = pd.read_csv(url)\n",
    "\n",
    "# Display the first few rows of the dataset\n",
    "print(df.head())"
   ]
  },
  {
   "cell_type": "code",
   "execution_count": 20,
   "metadata": {},
   "outputs": [],
   "source": [
    "# Preprocess the data\n",
    "df['Description'] = df['Description'].fillna('')\n",
    "\n",
    "# Combine relevant features\n",
    "df['combined_features'] = df['ProductName'] + ' ' + df['Description']\n"
   ]
  },
  {
   "cell_type": "code",
   "execution_count": 21,
   "metadata": {},
   "outputs": [],
   "source": [
    "# Get all category and subcategory columns\n",
    "category_cols = [col for col in df.columns if col.startswith('Category_') or col.startswith('SubCategory_')]\n"
   ]
  },
  {
   "cell_type": "code",
   "execution_count": 22,
   "metadata": {},
   "outputs": [],
   "source": [
    "# Create TF-IDF vectorizer for text features\n",
    "tfidf = TfidfVectorizer(stop_words='english')\n",
    "tfidf_matrix = tfidf.fit_transform(df['combined_features'])"
   ]
  },
  {
   "cell_type": "code",
   "execution_count": 23,
   "metadata": {},
   "outputs": [],
   "source": [
    "def get_recommendations(user_input, top_n=5):\n",
    "    # Transform user input\n",
    "    user_vector = tfidf.transform([user_input])\n",
    "    \n",
    "    # Calculate cosine similarity for text features\n",
    "    text_similarities = cosine_similarity(user_vector, tfidf_matrix).flatten()\n",
    "    \n",
    "    # If category columns exist, incorporate them into the recommendation\n",
    "    if category_cols:\n",
    "        category_matrix = df[category_cols].values\n",
    "        category_query = np.zeros(len(category_cols))\n",
    "        for i, col in enumerate(category_cols):\n",
    "            if any(keyword in user_input.lower() for keyword in col.lower().split('_')[1:]):\n",
    "                category_query[i] = 1\n",
    "        \n",
    "        category_similarities = cosine_similarity(category_query.reshape(1, -1), category_matrix).flatten()\n",
    "        \n",
    "        # Combine similarities (you can adjust the weights)\n",
    "        combined_similarities = 0.7 * text_similarities + 0.3 * category_similarities\n",
    "    else:\n",
    "        combined_similarities = text_similarities\n",
    "    \n",
    "    # Get top N similar items\n",
    "    related_product_indices = combined_similarities.argsort()[:-top_n-1:-1]\n",
    "    \n",
    "    # Return recommendations\n",
    "    return df.iloc[related_product_indices][['ProductName', 'Description'] + category_cols]"
   ]
  },
  {
   "cell_type": "code",
   "execution_count": 24,
   "metadata": {},
   "outputs": [],
   "source": [
    "\n",
    "def interactive_recommendation():\n",
    "    while True:\n",
    "        user_query = input(\"Enter your clothing query (or 'quit' to exit): \")\n",
    "        if user_query.lower() == 'quit':\n",
    "            break\n",
    "        recommendations = get_recommendations(user_query)\n",
    "        print(\"\\nRecommendations:\")\n",
    "        for i, (_, item) in enumerate(recommendations.iterrows(), 1):\n",
    "            print(f\"{i}. {item['ProductName']}\")\n",
    "            print(f\"   Description: {item['Description'][:100]}...\")\n",
    "            if category_cols:\n",
    "                print(f\"   Categories: {', '.join([col.split('_')[1] for col in category_cols if item[col] == 1.0])}\")\n",
    "            print()"
   ]
  },
  {
   "cell_type": "code",
   "execution_count": 25,
   "metadata": {},
   "outputs": [
    {
     "name": "stdout",
     "output_type": "stream",
     "text": [
      "Recommendations for 'luxury evening gown for formal dinner':\n",
      "                                            ProductName  \\\n",
      "4637      \"Men's Textured Zebra Jacquard Dinner Jacket\"   \n",
      "1327                    \"Evening birds swimming shorts\"   \n",
      "1436  \"Men's Micro-Weave Dinner Jacket w/ Satin Lape...   \n",
      "1309                     \"Men's Formal Tuxedo Trousers\"   \n",
      "1419                     \"Men's Formal Tuxedo Trousers\"   \n",
      "\n",
      "                                            Description  \n",
      "4637  \"TOM FORD tuxedo/dinner jacket in zebra jacqua...  \n",
      "1327  \"Designer Vilebrequin presents these fresh and...  \n",
      "1436  \"Giorgio Armani dinner jacket in micro weave. ...  \n",
      "1309  \"Brunello Cucinelli formal tuxedo trousers. Co...  \n",
      "1419  \"Brunello Cucinelli formal tuxedo trousers. Co...  \n",
      "\n",
      "Interactive recommendation system:\n"
     ]
    }
   ],
   "source": [
    "if __name__ == \"__main__\":\n",
    "    # Example usage\n",
    "    user_query = \"luxury evening gown for formal dinner\"\n",
    "    recommendations = get_recommendations(user_query)\n",
    "    print(f\"Recommendations for '{user_query}':\")\n",
    "    print(recommendations)\n",
    "    \n",
    "    print(\"\\nInteractive recommendation system:\")\n",
    "    interactive_recommendation()"
   ]
  },
  {
   "cell_type": "code",
   "execution_count": null,
   "metadata": {},
   "outputs": [],
   "source": []
  },
  {
   "cell_type": "code",
   "execution_count": null,
   "metadata": {},
   "outputs": [],
   "source": []
  },
  {
   "cell_type": "code",
   "execution_count": null,
   "metadata": {},
   "outputs": [],
   "source": []
  },
  {
   "cell_type": "markdown",
   "metadata": {},
   "source": [
    "# Task 2: Data Analysis Plan & User Query Simulation:"
   ]
  },
  {
   "cell_type": "code",
   "execution_count": 6,
   "metadata": {},
   "outputs": [],
   "source": [
    "import pandas as pd\n",
    "import numpy as np\n",
    "from sklearn.feature_extraction.text import TfidfVectorizer\n",
    "from sklearn.metrics.pairwise import cosine_similarity\n",
    "import re\n",
    "from nltk.tokenize import word_tokenize\n",
    "from nltk.corpus import stopwords\n",
    "from nltk.stem import WordNetLemmatizer\n",
    "import nltk"
   ]
  },
  {
   "cell_type": "code",
   "execution_count": 7,
   "metadata": {},
   "outputs": [
    {
     "name": "stderr",
     "output_type": "stream",
     "text": [
      "[nltk_data] Downloading package punkt to\n",
      "[nltk_data]     C:\\Users\\amiku\\AppData\\Roaming\\nltk_data...\n",
      "[nltk_data]   Package punkt is already up-to-date!\n",
      "[nltk_data] Downloading package stopwords to\n",
      "[nltk_data]     C:\\Users\\amiku\\AppData\\Roaming\\nltk_data...\n",
      "[nltk_data]   Package stopwords is already up-to-date!\n",
      "[nltk_data] Downloading package wordnet to\n",
      "[nltk_data]     C:\\Users\\amiku\\AppData\\Roaming\\nltk_data...\n",
      "[nltk_data]   Package wordnet is already up-to-date!\n"
     ]
    },
    {
     "data": {
      "text/plain": [
       "True"
      ]
     },
     "execution_count": 7,
     "metadata": {},
     "output_type": "execute_result"
    }
   ],
   "source": [
    "# Download necessary NLTK data\n",
    "nltk.download('punkt')\n",
    "nltk.download('stopwords')\n",
    "nltk.download('wordnet')"
   ]
  },
  {
   "cell_type": "code",
   "execution_count": 8,
   "metadata": {},
   "outputs": [],
   "source": [
    "# Load the dataset\n",
    "df = pd.read_csv('Luxury_Products_Apparel_Data.csv')"
   ]
  },
  {
   "cell_type": "markdown",
   "metadata": {},
   "source": [
    "# # Step 1: Data Preprocessing\n"
   ]
  },
  {
   "cell_type": "code",
   "execution_count": 9,
   "metadata": {},
   "outputs": [],
   "source": [
    "def preprocess_text(text):\n",
    "    # Convert to lowercase\n",
    "    text = text.lower()\n",
    "    # Remove special characters\n",
    "    text = re.sub(r'[^a-zA-Z\\s]', '', text)\n",
    "    # Tokenize\n",
    "    tokens = word_tokenize(text)\n",
    "    # Remove stopwords\n",
    "    stop_words = set(stopwords.words('english'))\n",
    "    tokens = [token for token in tokens if token not in stop_words]\n",
    "    # Lemmatize\n",
    "    lemmatizer = WordNetLemmatizer()\n",
    "    tokens = [lemmatizer.lemmatize(token) for token in tokens]\n",
    "    return ' '.join(tokens)"
   ]
  },
  {
   "cell_type": "code",
   "execution_count": 10,
   "metadata": {},
   "outputs": [],
   "source": [
    "# Apply preprocessing to relevant columns\n",
    "df['processed_name'] = df['ProductName'].fillna('').apply(preprocess_text)\n",
    "df['processed_description'] = df['Description'].fillna('').apply(preprocess_text)"
   ]
  },
  {
   "cell_type": "code",
   "execution_count": 11,
   "metadata": {},
   "outputs": [],
   "source": [
    "# Combine processed text\n",
    "df['combined_text'] = df['processed_name'] + ' ' + df['processed_description']"
   ]
  },
  {
   "cell_type": "markdown",
   "metadata": {},
   "source": [
    "## Step 2: Feature Extraction\n"
   ]
  },
  {
   "cell_type": "code",
   "execution_count": 12,
   "metadata": {},
   "outputs": [],
   "source": [
    "tfidf = TfidfVectorizer()\n",
    "tfidf_matrix = tfidf.fit_transform(df['combined_text'])"
   ]
  },
  {
   "cell_type": "markdown",
   "metadata": {},
   "source": [
    "## Step 3: Search Function\n"
   ]
  },
  {
   "cell_type": "code",
   "execution_count": 13,
   "metadata": {},
   "outputs": [],
   "source": [
    "\n",
    "def search_luxury_apparel(query, top_n=5):\n",
    "    # Preprocess the query\n",
    "    processed_query = preprocess_text(query)\n",
    "    \n",
    "    # Transform the query using the fitted TF-IDF vectorizer\n",
    "    query_vector = tfidf.transform([processed_query])\n",
    "    \n",
    "    # Calculate cosine similarity\n",
    "    cosine_similarities = cosine_similarity(query_vector, tfidf_matrix).flatten()\n",
    "    \n",
    "    # Get top N similar items\n",
    "    top_indices = cosine_similarities.argsort()[:-top_n-1:-1]\n",
    "    \n",
    "    # Prepare results\n",
    "    results = df.iloc[top_indices][['ProductName', 'Description']]\n",
    "    results['Similarity'] = cosine_similarities[top_indices]\n",
    "    \n",
    "    return results"
   ]
  },
  {
   "cell_type": "markdown",
   "metadata": {},
   "source": [
    "## Step 4: Generate LLM-like response\n"
   ]
  },
  {
   "cell_type": "code",
   "execution_count": 14,
   "metadata": {},
   "outputs": [],
   "source": [
    "def generate_llm_response(query, results):\n",
    "    response = f\"Based on your query '{query}', here are some luxury apparel recommendations:\\n\\n\"\n",
    "    \n",
    "    for i, (_, item) in enumerate(results.iterrows(), 1):\n",
    "        response += f\"{i}. {item['ProductName']}\\n\"\n",
    "        response += f\"   Description: {item['Description'][:100]}...\\n\"\n",
    "        response += f\"   Similarity: {item['Similarity']:.2f}\\n\\n\"\n",
    "    \n",
    "    response += \"These items were selected based on their relevance to your query. \"\n",
    "    response += \"The similarity score indicates how closely each item matches your request. \"\n",
    "    response += \"Would you like more details about any specific item?\"\n",
    "    \n",
    "    return response"
   ]
  },
  {
   "cell_type": "code",
   "execution_count": 15,
   "metadata": {},
   "outputs": [
    {
     "name": "stdout",
     "output_type": "stream",
     "text": [
      "Based on your query 'Show me luxury dresses for a formal evening dinner', here are some luxury apparel recommendations:\n",
      "\n",
      "1. \"Evening birds swimming shorts\"\n",
      "   Description: \"Designer Vilebrequin presents these fresh and colourful Evening Birds swimming shorts. Its psychede...\n",
      "   Similarity: 0.21\n",
      "\n",
      "2. \"Men's Multi-Stripe Dress Shirt\"\n",
      "   Description: \"Brioni dress shirt in multi stripes. Spread collar; French-placket button front. French cuffs; cuff...\n",
      "   Similarity: 0.19\n",
      "\n",
      "3. \"Men's Eton Trim Fit Check Dress Shirt\"\n",
      "   Description: \"Crease-resistant performance construction means a fresh look all day in a modern dress shirt patter...\n",
      "   Similarity: 0.19\n",
      "\n",
      "4. \"Men's Big \\u0026 Tall David Donahue Regular Fit Geometric Dress Shirt\"\n",
      "   Description: \"A sharp geometric motif marks a modern-cut dress shirt featuring a wide spread collar and rounded, ...\n",
      "   Similarity: 0.18\n",
      "\n",
      "5. \"Men's Brooks Brothers Trim Fit Plaid Dress Shirt (Any 3 For $207)\"\n",
      "   Description: \"Charming plaid adds color to a smart dress shirt cut from fine American cotton and fitted with a wi...\n",
      "   Similarity: 0.18\n",
      "\n",
      "These items were selected based on their relevance to your query. The similarity score indicates how closely each item matches your request. Would you like more details about any specific item?\n"
     ]
    }
   ],
   "source": [
    "# Example usage\n",
    "user_query = \"Show me luxury dresses for a formal evening dinner\"\n",
    "search_results = search_luxury_apparel(user_query)\n",
    "llm_response = generate_llm_response(user_query, search_results)\n",
    "\n",
    "print(llm_response)"
   ]
  },
  {
   "cell_type": "code",
   "execution_count": null,
   "metadata": {},
   "outputs": [],
   "source": []
  }
 ],
 "metadata": {
  "kernelspec": {
   "display_name": "Python 3",
   "language": "python",
   "name": "python3"
  },
  "language_info": {
   "codemirror_mode": {
    "name": "ipython",
    "version": 3
   },
   "file_extension": ".py",
   "mimetype": "text/x-python",
   "name": "python",
   "nbconvert_exporter": "python",
   "pygments_lexer": "ipython3",
   "version": "3.12.4"
  }
 },
 "nbformat": 4,
 "nbformat_minor": 2
}
